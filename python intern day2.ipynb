{
 "cells": [
  {
   "cell_type": "code",
   "execution_count": 1,
   "id": "86b2da25-e9ea-40e2-b8aa-d4ebcdc40469",
   "metadata": {},
   "outputs": [
    {
     "name": "stdout",
     "output_type": "stream",
     "text": [
      "\n",
      "==== To-Do List Menu ====\n",
      "1. View Tasks\n",
      "2. Add Task\n",
      "3. Remove Task\n",
      "4. Exit\n",
      "=========================\n"
     ]
    },
    {
     "name": "stdin",
     "output_type": "stream",
     "text": [
      "Choose an option (1-4):  4\n"
     ]
    },
    {
     "name": "stdout",
     "output_type": "stream",
     "text": [
      "💾 Exiting... Your tasks are saved.\n"
     ]
    }
   ],
   "source": [
    "# todo.py\n",
    "\n",
    "# ---------- To-Do List Application ----------\n",
    "\n",
    "TASK_FILE = \"tasks.txt\"\n",
    "\n",
    "# Load tasks from file\n",
    "def load_tasks():\n",
    "    try:\n",
    "        with open(TASK_FILE, \"r\") as f:\n",
    "            tasks = [line.strip() for line in f.readlines()]\n",
    "    except FileNotFoundError:\n",
    "        tasks = []\n",
    "    return tasks\n",
    "\n",
    "# Save tasks to file\n",
    "def save_tasks(tasks):\n",
    "    with open(TASK_FILE, \"w\") as f:\n",
    "        for task in tasks:\n",
    "            f.write(task + \"\\n\")\n",
    "\n",
    "# Add a new task\n",
    "def add_task(tasks):\n",
    "    task = input(\"Enter the task: \").strip()\n",
    "    if task:\n",
    "        tasks.append(task)\n",
    "        save_tasks(tasks)\n",
    "        print(f\"✅ Task '{task}' added successfully!\")\n",
    "    else:\n",
    "        print(\"⚠️ Task cannot be empty.\")\n",
    "\n",
    "# View all tasks\n",
    "def view_tasks(tasks):\n",
    "    if not tasks:\n",
    "        print(\"📝 No tasks found.\")\n",
    "    else:\n",
    "        print(\"\\n---- Your To-Do List ----\")\n",
    "        for i, task in enumerate(tasks, start=1):\n",
    "            print(f\"{i}. {task}\")\n",
    "        print(\"-------------------------\\n\")\n",
    "\n",
    "# Remove a task\n",
    "def remove_task(tasks):\n",
    "    view_tasks(tasks)\n",
    "    if tasks:\n",
    "        try:\n",
    "            num = int(input(\"Enter the task number to remove: \"))\n",
    "            if 1 <= num <= len(tasks):\n",
    "                removed = tasks.pop(num - 1)\n",
    "                save_tasks(tasks)\n",
    "                print(f\"❌ Task '{removed}' removed.\")\n",
    "            else:\n",
    "                print(\"⚠️ Invalid task number.\")\n",
    "        except ValueError:\n",
    "            print(\"⚠️ Please enter a valid number.\")\n",
    "\n",
    "# Main program loop\n",
    "def main():\n",
    "    tasks = load_tasks()\n",
    "\n",
    "    while True:\n",
    "        print(\"\\n==== To-Do List Menu ====\")\n",
    "        print(\"1. View Tasks\")\n",
    "        print(\"2. Add Task\")\n",
    "        print(\"3. Remove Task\")\n",
    "        print(\"4. Exit\")\n",
    "        print(\"=========================\")\n",
    "\n",
    "        choice = input(\"Choose an option (1-4): \").strip()\n",
    "\n",
    "        if choice == \"1\":\n",
    "            view_tasks(tasks)\n",
    "        elif choice == \"2\":\n",
    "            add_task(tasks)\n",
    "        elif choice == \"3\":\n",
    "            remove_task(tasks)\n",
    "        elif choice == \"4\":\n",
    "            print(\"💾 Exiting... Your tasks are saved.\")\n",
    "            break\n",
    "        else:\n",
    "            print(\"⚠️ Invalid choice. Please select between 1-4.\")\n",
    "\n",
    "if __name__ == \"__main__\":\n",
    "    main()"
   ]
  }
 ],
 "metadata": {
  "kernelspec": {
   "display_name": "Python [conda env:base] *",
   "language": "python",
   "name": "conda-base-py"
  },
  "language_info": {
   "codemirror_mode": {
    "name": "ipython",
    "version": 3
   },
   "file_extension": ".py",
   "mimetype": "text/x-python",
   "name": "python",
   "nbconvert_exporter": "python",
   "pygments_lexer": "ipython3",
   "version": "3.13.5"
  }
 },
 "nbformat": 4,
 "nbformat_minor": 5
}
