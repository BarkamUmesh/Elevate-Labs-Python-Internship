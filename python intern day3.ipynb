{
 "cells": [
  {
   "cell_type": "code",
   "execution_count": 1,
   "id": "b2870ee7-21b4-417a-9785-e5636e5c10d9",
   "metadata": {},
   "outputs": [
    {
     "name": "stdout",
     "output_type": "stream",
     "text": [
      "✅ 58 headlines saved to 'headlines.txt'\n"
     ]
    }
   ],
   "source": [
    "import requests\n",
    "from bs4 import BeautifulSoup\n",
    "\n",
    "# Step 1: Choose a news website\n",
    "URL = \"https://www.bbc.com/news\"  # You can change to NDTV, Reuters, etc.\n",
    "\n",
    "# Step 2: Fetch the webpage content\n",
    "response = requests.get(URL)\n",
    "if response.status_code != 200:\n",
    "    print(\"Failed to retrieve page. Status code:\", response.status_code)\n",
    "    exit()\n",
    "\n",
    "# Step 3: Parse HTML\n",
    "soup = BeautifulSoup(response.text, \"html.parser\")\n",
    "\n",
    "# Step 4: Extract headlines\n",
    "# On BBC, headlines are in <h3> tags with specific classes\n",
    "headlines = []\n",
    "\n",
    "for h in soup.find_all(['h2', 'h3']):\n",
    "    text = h.get_text(strip=True)\n",
    "    if text and len(text) > 10:  # filter short irrelevant ones\n",
    "        headlines.append(text)\n",
    "\n",
    "# Step 5: Save to a text file\n",
    "with open(\"headlines.txt\", \"w\", encoding=\"utf-8\") as file:\n",
    "    for i, headline in enumerate(headlines, start=1):\n",
    "        file.write(f\"{i}. {headline}\\n\")\n",
    "\n",
    "print(f\"✅ {len(headlines)} headlines saved to 'headlines.txt'\")"
   ]
  }
 ],
 "metadata": {
  "kernelspec": {
   "display_name": "Python [conda env:base] *",
   "language": "python",
   "name": "conda-base-py"
  },
  "language_info": {
   "codemirror_mode": {
    "name": "ipython",
    "version": 3
   },
   "file_extension": ".py",
   "mimetype": "text/x-python",
   "name": "python",
   "nbconvert_exporter": "python",
   "pygments_lexer": "ipython3",
   "version": "3.13.5"
  }
 },
 "nbformat": 4,
 "nbformat_minor": 5
}
