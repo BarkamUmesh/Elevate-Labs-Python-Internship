{
 "cells": [
  {
   "cell_type": "code",
   "execution_count": null,
   "id": "b2870ee7-21b4-417a-9785-e5636e5c10d9",
   "metadata": {},
   "outputs": [],
   "source": []
  }
 ],
 "metadata": {
  "kernelspec": {
   "display_name": "",
   "name": ""
  },
  "language_info": {
   "name": ""
  }
 },
 "nbformat": 4,
 "nbformat_minor": 5
}
