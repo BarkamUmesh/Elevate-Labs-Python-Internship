{
 "cells": [
  {
   "cell_type": "code",
   "execution_count": 8,
   "id": "01806af7-2589-4a61-9a9d-ca8a87299588",
   "metadata": {},
   "outputs": [
    {
     "name": "stdout",
     "output_type": "stream",
     "text": [
      "\n",
      "--- Calculator Menu ---\n",
      "1. Add (+)\n",
      "2. Subtract (-)\n",
      "3. Multiply (*)\n",
      "4. Divide (/)\n",
      "5. Exit\n",
      "-----------------------\n"
     ]
    },
    {
     "name": "stdin",
     "output_type": "stream",
     "text": [
      "Enter your choice (1-5):  4\n",
      "Enter first number:  4\n",
      "Enter second number:  10\n"
     ]
    },
    {
     "name": "stdout",
     "output_type": "stream",
     "text": [
      "Result: 4.0 / 10.0 = 0.4\n",
      "\n",
      "--- Calculator Menu ---\n",
      "1. Add (+)\n",
      "2. Subtract (-)\n",
      "3. Multiply (*)\n",
      "4. Divide (/)\n",
      "5. Exit\n",
      "-----------------------\n"
     ]
    },
    {
     "name": "stdin",
     "output_type": "stream",
     "text": [
      "Enter your choice (1-5):  5\n"
     ]
    },
    {
     "name": "stdout",
     "output_type": "stream",
     "text": [
      "Exiting calculator. Goodbye!\n"
     ]
    }
   ],
   "source": [
    "# calculator.py\n",
    "\n",
    "def add(x, y):\n",
    "    \"\"\"Performs addition of two numbers.\"\"\"\n",
    "    return x + y\n",
    "\n",
    "def subtract(x, y):\n",
    "    \"\"\"Performs subtraction of two numbers.\"\"\"\n",
    "    return x - y\n",
    "\n",
    "def multiply(x, y):\n",
    "    \"\"\"Performs multiplication of two numbers.\"\"\"\n",
    "    return x * y\n",
    "\n",
    "def divide(x, y):\n",
    "    \"\"\"Performs division of two numbers, handling division by zero.\"\"\"\n",
    "    if y == 0:\n",
    "        return \"Error: Division by zero is not allowed.\"\n",
    "    return x / y\n",
    "\n",
    "def display_menu():\n",
    "    \"\"\"Displays the calculator's operation menu to the user.\"\"\"\n",
    "    print(\"\\n--- Calculator Menu ---\")\n",
    "    print(\"1. Add (+)\")\n",
    "    print(\"2. Subtract (-)\")\n",
    "    print(\"3. Multiply (*)\")\n",
    "    print(\"4. Divide (/)\")\n",
    "    print(\"5. Exit\")\n",
    "    print(\"-----------------------\")\n",
    "\n",
    "def get_numbers():\n",
    "    \"\"\"Prompts the user for two numbers and returns them as floats.\"\"\"\n",
    "    while True:\n",
    "        try:\n",
    "            num1 = float(input(\"Enter first number: \"))\n",
    "            num2 = float(input(\"Enter second number: \"))\n",
    "            return num1, num2\n",
    "        except ValueError:\n",
    "            print(\"Invalid input. Please enter valid numbers.\")\n",
    "\n",
    "def main():\n",
    "    \"\"\"Main function to run the calculator CLI app.\"\"\"\n",
    "    while True:\n",
    "        display_menu()\n",
    "        choice = input(\"Enter your choice (1-5): \")\n",
    "\n",
    "        if choice == '5':\n",
    "            print(\"Exiting calculator. Goodbye!\")\n",
    "            break\n",
    "        elif choice in ('1', '2', '3', '4'):\n",
    "            num1, num2 = get_numbers()\n",
    "\n",
    "            if choice == '1':\n",
    "                print(f\"Result: {num1} + {num2} = {add(num1, num2)}\")\n",
    "            elif choice == '2':\n",
    "                print(f\"Result: {num1} - {num2} = {subtract(num1, num2)}\")\n",
    "            elif choice == '3':\n",
    "                print(f\"Result: {num1} * {num2} = {multiply(num1, num2)}\")\n",
    "            elif choice == '4':\n",
    "                result = divide(num1, num2)\n",
    "                print(f\"Result: {num1} / {num2} = {result}\")\n",
    "        else:\n",
    "            print(\"Invalid choice. Please enter a number between 1 and 5.\")\n",
    "\n",
    "if __name__ == \"__main__\":\n",
    "    main()"
   ]
  },
  {
   "cell_type": "code",
   "execution_count": null,
   "id": "3179c38f-61c0-4a58-aeb9-12a0be96cc3c",
   "metadata": {},
   "outputs": [],
   "source": []
  },
  {
   "cell_type": "code",
   "execution_count": null,
   "id": "cebb8730-f3ab-4313-b111-0623a15133af",
   "metadata": {},
   "outputs": [],
   "source": []
  },
  {
   "cell_type": "code",
   "execution_count": null,
   "id": "3ef30e75-fb61-4d6f-900a-2d00791b4471",
   "metadata": {},
   "outputs": [],
   "source": []
  },
  {
   "cell_type": "code",
   "execution_count": null,
   "id": "55a1e6c0-14b0-454d-9b0c-af7af0693666",
   "metadata": {},
   "outputs": [],
   "source": []
  },
  {
   "cell_type": "code",
   "execution_count": null,
   "id": "c6830fcd-b711-4f05-8cb7-307ecd29ed74",
   "metadata": {},
   "outputs": [],
   "source": []
  }
 ],
 "metadata": {
  "kernelspec": {
   "display_name": "Python [conda env:base] *",
   "language": "python",
   "name": "conda-base-py"
  },
  "language_info": {
   "codemirror_mode": {
    "name": "ipython",
    "version": 3
   },
   "file_extension": ".py",
   "mimetype": "text/x-python",
   "name": "python",
   "nbconvert_exporter": "python",
   "pygments_lexer": "ipython3",
   "version": "3.13.5"
  }
 },
 "nbformat": 4,
 "nbformat_minor": 5
}
