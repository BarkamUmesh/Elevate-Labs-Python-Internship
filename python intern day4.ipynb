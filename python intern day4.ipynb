{
 "cells": [
  {
   "cell_type": "code",
   "execution_count": 7,
   "id": "b6b66485-3832-4f97-8dc0-5772796383b6",
   "metadata": {},
   "outputs": [
    {
     "name": "stdout",
     "output_type": "stream",
     "text": [
      " * Serving Flask app '__main__'\n",
      " * Debug mode: on\n"
     ]
    },
    {
     "name": "stderr",
     "output_type": "stream",
     "text": [
      "WARNING: This is a development server. Do not use it in a production deployment. Use a production WSGI server instead.\n",
      " * Running on http://127.0.0.1:5000\n",
      "Press CTRL+C to quit\n",
      " * Restarting with watchdog (windowsapi)\n"
     ]
    },
    {
     "ename": "SystemExit",
     "evalue": "1",
     "output_type": "error",
     "traceback": [
      "An exception has occurred, use %tb to see the full traceback.\n",
      "\u001b[1;31mSystemExit\u001b[0m\u001b[1;31m:\u001b[0m 1\n"
     ]
    }
   ],
   "source": [
    "from flask import Flask, request, jsonify\n",
    "\n",
    "app = Flask(__name__)\n",
    "\n",
    "# In-memory storage for users\n",
    "users = {}\n",
    "user_id_counter = 1\n",
    "\n",
    "@app.route('/users', methods=['GET'])\n",
    "def get_users():\n",
    "    \"\"\"Retrieves all users.\"\"\"\n",
    "    return jsonify(list(users.values()))\n",
    "\n",
    "@app.route('/users/<int:user_id>', methods=['GET'])\n",
    "def get_user(user_id):\n",
    "    \"\"\"Retrieves a specific user by ID.\"\"\"\n",
    "    user = users.get(user_id)\n",
    "    if user:\n",
    "        return jsonify(user)\n",
    "    return jsonify({\"message\": \"User not found\"}), 404\n",
    "\n",
    "@app.route('/users', methods=['POST'])\n",
    "def create_user():\n",
    "    \"\"\"Creates a new user.\"\"\"\n",
    "    global user_id_counter\n",
    "    new_user_data = request.json\n",
    "    if not new_user_data or 'name' not in new_user_data:\n",
    "        return jsonify({\"message\": \"Name is required\"}), 400\n",
    "\n",
    "    new_user = {\n",
    "        \"id\": user_id_counter,\n",
    "        \"name\": new_user_data['name'],\n",
    "        \"email\": new_user_data.get('email')\n",
    "    }\n",
    "    users[user_id_counter] = new_user\n",
    "    user_id_counter += 1\n",
    "    return jsonify(new_user), 201\n",
    "\n",
    "@app.route('/users/<int:user_id>', methods=['PUT'])\n",
    "def update_user(user_id):\n",
    "    \"\"\"Updates an existing user.\"\"\"\n",
    "    user = users.get(user_id)\n",
    "    if not user:\n",
    "        return jsonify({\"message\": \"User not found\"}), 404\n",
    "\n",
    "    update_data = request.json\n",
    "    if 'name' in update_data:\n",
    "        user['name'] = update_data['name']\n",
    "    if 'email' in update_data:\n",
    "        user['email'] = update_data['email']\n",
    "    return jsonify(user)\n",
    "\n",
    "@app.route('/users/<int:user_id>', methods=['DELETE'])\n",
    "def delete_user(user_id):\n",
    "    \"\"\"Deletes a user.\"\"\"\n",
    "    if user_id in users:\n",
    "        del users[user_id]\n",
    "        return jsonify({\"message\": \"User deleted\"}), 200\n",
    "    return jsonify({\"message\": \"User not found\"}), 404\n",
    "\n",
    "if __name__ == '__main__':\n",
    "    app.run(debug=True)"
   ]
  }
 ],
 "metadata": {
  "kernelspec": {
   "display_name": "Python [conda env:base] *",
   "language": "python",
   "name": "conda-base-py"
  },
  "language_info": {
   "codemirror_mode": {
    "name": "ipython",
    "version": 3
   },
   "file_extension": ".py",
   "mimetype": "text/x-python",
   "name": "python",
   "nbconvert_exporter": "python",
   "pygments_lexer": "ipython3",
   "version": "3.13.5"
  }
 },
 "nbformat": 4,
 "nbformat_minor": 5
}
